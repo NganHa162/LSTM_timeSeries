{
 "cells": [
  {
   "cell_type": "code",
   "execution_count": 1,
   "id": "f5b1a7ce",
   "metadata": {
    "_cell_guid": "b1076dfc-b9ad-4769-8c92-a6c4dae69d19",
    "_uuid": "8f2839f25d086af736a60e9eeb907d3b93b6e0e5",
    "execution": {
     "iopub.execute_input": "2024-04-08T16:31:13.526000Z",
     "iopub.status.busy": "2024-04-08T16:31:13.525646Z",
     "iopub.status.idle": "2024-04-08T16:31:17.853879Z",
     "shell.execute_reply": "2024-04-08T16:31:17.853133Z"
    },
    "papermill": {
     "duration": 4.342907,
     "end_time": "2024-04-08T16:31:17.856161",
     "exception": false,
     "start_time": "2024-04-08T16:31:13.513254",
     "status": "completed"
    },
    "tags": []
   },
   "outputs": [],
   "source": [
    "import pandas as pd\n",
    "import numpy as np\n",
    "import matplotlib.pyplot as plt\n",
    "\n",
    "import torch\n",
    "import torch.nn as nn"
   ]
  },
  {
   "cell_type": "code",
   "execution_count": 2,
   "id": "0176504a",
   "metadata": {
    "execution": {
     "iopub.execute_input": "2024-04-08T16:31:17.878152Z",
     "iopub.status.busy": "2024-04-08T16:31:17.877752Z",
     "iopub.status.idle": "2024-04-08T16:31:17.956298Z",
     "shell.execute_reply": "2024-04-08T16:31:17.955361Z"
    },
    "papermill": {
     "duration": 0.09151,
     "end_time": "2024-04-08T16:31:17.958226",
     "exception": false,
     "start_time": "2024-04-08T16:31:17.866716",
     "status": "completed"
    },
    "tags": []
   },
   "outputs": [
    {
     "name": "stdout",
     "output_type": "stream",
     "text": [
      "GPU is available\n"
     ]
    }
   ],
   "source": [
    "is_cuda = torch.cuda.is_available()\n",
    "if is_cuda:\n",
    "    device = torch.device(\"cuda\")\n",
    "    print(\"GPU is available\")\n",
    "else:\n",
    "    device = torch.device(\"cpu\")\n",
    "    print(\"GPU not available, CPU used\")"
   ]
  },
  {
   "cell_type": "code",
   "execution_count": 3,
   "id": "a258fece",
   "metadata": {
    "execution": {
     "iopub.execute_input": "2024-04-08T16:31:17.979423Z",
     "iopub.status.busy": "2024-04-08T16:31:17.979160Z",
     "iopub.status.idle": "2024-04-08T16:31:18.029254Z",
     "shell.execute_reply": "2024-04-08T16:31:18.028399Z"
    },
    "papermill": {
     "duration": 0.062975,
     "end_time": "2024-04-08T16:31:18.031302",
     "exception": false,
     "start_time": "2024-04-08T16:31:17.968327",
     "status": "completed"
    },
    "tags": []
   },
   "outputs": [
    {
     "data": {
      "text/html": [
       "<div>\n",
       "<style scoped>\n",
       "    .dataframe tbody tr th:only-of-type {\n",
       "        vertical-align: middle;\n",
       "    }\n",
       "\n",
       "    .dataframe tbody tr th {\n",
       "        vertical-align: top;\n",
       "    }\n",
       "\n",
       "    .dataframe thead th {\n",
       "        text-align: right;\n",
       "    }\n",
       "</style>\n",
       "<table border=\"1\" class=\"dataframe\">\n",
       "  <thead>\n",
       "    <tr style=\"text-align: right;\">\n",
       "      <th></th>\n",
       "      <th>Date</th>\n",
       "      <th>Open</th>\n",
       "      <th>High</th>\n",
       "      <th>Low</th>\n",
       "      <th>Close</th>\n",
       "      <th>Adj Close</th>\n",
       "      <th>Volume</th>\n",
       "    </tr>\n",
       "  </thead>\n",
       "  <tbody>\n",
       "    <tr>\n",
       "      <th>0</th>\n",
       "      <td>2004-08-19</td>\n",
       "      <td>50.050049</td>\n",
       "      <td>52.082081</td>\n",
       "      <td>48.028027</td>\n",
       "      <td>50.220219</td>\n",
       "      <td>50.220219</td>\n",
       "      <td>44659096</td>\n",
       "    </tr>\n",
       "    <tr>\n",
       "      <th>1</th>\n",
       "      <td>2004-08-20</td>\n",
       "      <td>50.555557</td>\n",
       "      <td>54.594597</td>\n",
       "      <td>50.300301</td>\n",
       "      <td>54.209209</td>\n",
       "      <td>54.209209</td>\n",
       "      <td>22834343</td>\n",
       "    </tr>\n",
       "    <tr>\n",
       "      <th>2</th>\n",
       "      <td>2004-08-23</td>\n",
       "      <td>55.430431</td>\n",
       "      <td>56.796799</td>\n",
       "      <td>54.579578</td>\n",
       "      <td>54.754753</td>\n",
       "      <td>54.754753</td>\n",
       "      <td>18256126</td>\n",
       "    </tr>\n",
       "    <tr>\n",
       "      <th>3</th>\n",
       "      <td>2004-08-24</td>\n",
       "      <td>55.675674</td>\n",
       "      <td>55.855858</td>\n",
       "      <td>51.836838</td>\n",
       "      <td>52.487488</td>\n",
       "      <td>52.487488</td>\n",
       "      <td>15247337</td>\n",
       "    </tr>\n",
       "    <tr>\n",
       "      <th>4</th>\n",
       "      <td>2004-08-25</td>\n",
       "      <td>52.532532</td>\n",
       "      <td>54.054054</td>\n",
       "      <td>51.991993</td>\n",
       "      <td>53.053055</td>\n",
       "      <td>53.053055</td>\n",
       "      <td>9188602</td>\n",
       "    </tr>\n",
       "    <tr>\n",
       "      <th>...</th>\n",
       "      <td>...</td>\n",
       "      <td>...</td>\n",
       "      <td>...</td>\n",
       "      <td>...</td>\n",
       "      <td>...</td>\n",
       "      <td>...</td>\n",
       "      <td>...</td>\n",
       "    </tr>\n",
       "    <tr>\n",
       "      <th>4426</th>\n",
       "      <td>2022-03-18</td>\n",
       "      <td>2668.489990</td>\n",
       "      <td>2724.879883</td>\n",
       "      <td>2645.169922</td>\n",
       "      <td>2722.510010</td>\n",
       "      <td>2722.510010</td>\n",
       "      <td>2223100</td>\n",
       "    </tr>\n",
       "    <tr>\n",
       "      <th>4427</th>\n",
       "      <td>2022-03-21</td>\n",
       "      <td>2723.270020</td>\n",
       "      <td>2741.000000</td>\n",
       "      <td>2681.850098</td>\n",
       "      <td>2722.030029</td>\n",
       "      <td>2722.030029</td>\n",
       "      <td>1341600</td>\n",
       "    </tr>\n",
       "    <tr>\n",
       "      <th>4428</th>\n",
       "      <td>2022-03-22</td>\n",
       "      <td>2722.030029</td>\n",
       "      <td>2821.000000</td>\n",
       "      <td>2722.030029</td>\n",
       "      <td>2797.360107</td>\n",
       "      <td>2797.360107</td>\n",
       "      <td>1774800</td>\n",
       "    </tr>\n",
       "    <tr>\n",
       "      <th>4429</th>\n",
       "      <td>2022-03-23</td>\n",
       "      <td>2774.050049</td>\n",
       "      <td>2791.770020</td>\n",
       "      <td>2756.699951</td>\n",
       "      <td>2765.510010</td>\n",
       "      <td>2765.510010</td>\n",
       "      <td>1257700</td>\n",
       "    </tr>\n",
       "    <tr>\n",
       "      <th>4430</th>\n",
       "      <td>2022-03-24</td>\n",
       "      <td>2784.000000</td>\n",
       "      <td>2832.379883</td>\n",
       "      <td>2755.010010</td>\n",
       "      <td>2831.439941</td>\n",
       "      <td>2831.439941</td>\n",
       "      <td>1317900</td>\n",
       "    </tr>\n",
       "  </tbody>\n",
       "</table>\n",
       "<p>4431 rows × 7 columns</p>\n",
       "</div>"
      ],
      "text/plain": [
       "            Date         Open         High          Low        Close  \\\n",
       "0     2004-08-19    50.050049    52.082081    48.028027    50.220219   \n",
       "1     2004-08-20    50.555557    54.594597    50.300301    54.209209   \n",
       "2     2004-08-23    55.430431    56.796799    54.579578    54.754753   \n",
       "3     2004-08-24    55.675674    55.855858    51.836838    52.487488   \n",
       "4     2004-08-25    52.532532    54.054054    51.991993    53.053055   \n",
       "...          ...          ...          ...          ...          ...   \n",
       "4426  2022-03-18  2668.489990  2724.879883  2645.169922  2722.510010   \n",
       "4427  2022-03-21  2723.270020  2741.000000  2681.850098  2722.030029   \n",
       "4428  2022-03-22  2722.030029  2821.000000  2722.030029  2797.360107   \n",
       "4429  2022-03-23  2774.050049  2791.770020  2756.699951  2765.510010   \n",
       "4430  2022-03-24  2784.000000  2832.379883  2755.010010  2831.439941   \n",
       "\n",
       "        Adj Close    Volume  \n",
       "0       50.220219  44659096  \n",
       "1       54.209209  22834343  \n",
       "2       54.754753  18256126  \n",
       "3       52.487488  15247337  \n",
       "4       53.053055   9188602  \n",
       "...           ...       ...  \n",
       "4426  2722.510010   2223100  \n",
       "4427  2722.030029   1341600  \n",
       "4428  2797.360107   1774800  \n",
       "4429  2765.510010   1257700  \n",
       "4430  2831.439941   1317900  \n",
       "\n",
       "[4431 rows x 7 columns]"
      ]
     },
     "execution_count": 3,
     "metadata": {},
     "output_type": "execute_result"
    }
   ],
   "source": [
    "df = pd.read_csv('/kaggle/input/google-stock-data/GOOGL.csv')\n",
    "df"
   ]
  },
  {
   "cell_type": "code",
   "execution_count": 4,
   "id": "0c62f4a6",
   "metadata": {
    "execution": {
     "iopub.execute_input": "2024-04-08T16:31:18.054096Z",
     "iopub.status.busy": "2024-04-08T16:31:18.053806Z",
     "iopub.status.idle": "2024-04-08T16:31:18.066154Z",
     "shell.execute_reply": "2024-04-08T16:31:18.065347Z"
    },
    "papermill": {
     "duration": 0.025535,
     "end_time": "2024-04-08T16:31:18.067949",
     "exception": false,
     "start_time": "2024-04-08T16:31:18.042414",
     "status": "completed"
    },
    "tags": []
   },
   "outputs": [
    {
     "data": {
      "text/html": [
       "<div>\n",
       "<style scoped>\n",
       "    .dataframe tbody tr th:only-of-type {\n",
       "        vertical-align: middle;\n",
       "    }\n",
       "\n",
       "    .dataframe tbody tr th {\n",
       "        vertical-align: top;\n",
       "    }\n",
       "\n",
       "    .dataframe thead th {\n",
       "        text-align: right;\n",
       "    }\n",
       "</style>\n",
       "<table border=\"1\" class=\"dataframe\">\n",
       "  <thead>\n",
       "    <tr style=\"text-align: right;\">\n",
       "      <th></th>\n",
       "      <th>Date</th>\n",
       "      <th>Close</th>\n",
       "    </tr>\n",
       "  </thead>\n",
       "  <tbody>\n",
       "    <tr>\n",
       "      <th>0</th>\n",
       "      <td>2004-08-19</td>\n",
       "      <td>50.220219</td>\n",
       "    </tr>\n",
       "    <tr>\n",
       "      <th>1</th>\n",
       "      <td>2004-08-20</td>\n",
       "      <td>54.209209</td>\n",
       "    </tr>\n",
       "    <tr>\n",
       "      <th>2</th>\n",
       "      <td>2004-08-23</td>\n",
       "      <td>54.754753</td>\n",
       "    </tr>\n",
       "    <tr>\n",
       "      <th>3</th>\n",
       "      <td>2004-08-24</td>\n",
       "      <td>52.487488</td>\n",
       "    </tr>\n",
       "    <tr>\n",
       "      <th>4</th>\n",
       "      <td>2004-08-25</td>\n",
       "      <td>53.053055</td>\n",
       "    </tr>\n",
       "    <tr>\n",
       "      <th>...</th>\n",
       "      <td>...</td>\n",
       "      <td>...</td>\n",
       "    </tr>\n",
       "    <tr>\n",
       "      <th>4426</th>\n",
       "      <td>2022-03-18</td>\n",
       "      <td>2722.510010</td>\n",
       "    </tr>\n",
       "    <tr>\n",
       "      <th>4427</th>\n",
       "      <td>2022-03-21</td>\n",
       "      <td>2722.030029</td>\n",
       "    </tr>\n",
       "    <tr>\n",
       "      <th>4428</th>\n",
       "      <td>2022-03-22</td>\n",
       "      <td>2797.360107</td>\n",
       "    </tr>\n",
       "    <tr>\n",
       "      <th>4429</th>\n",
       "      <td>2022-03-23</td>\n",
       "      <td>2765.510010</td>\n",
       "    </tr>\n",
       "    <tr>\n",
       "      <th>4430</th>\n",
       "      <td>2022-03-24</td>\n",
       "      <td>2831.439941</td>\n",
       "    </tr>\n",
       "  </tbody>\n",
       "</table>\n",
       "<p>4431 rows × 2 columns</p>\n",
       "</div>"
      ],
      "text/plain": [
       "            Date        Close\n",
       "0     2004-08-19    50.220219\n",
       "1     2004-08-20    54.209209\n",
       "2     2004-08-23    54.754753\n",
       "3     2004-08-24    52.487488\n",
       "4     2004-08-25    53.053055\n",
       "...          ...          ...\n",
       "4426  2022-03-18  2722.510010\n",
       "4427  2022-03-21  2722.030029\n",
       "4428  2022-03-22  2797.360107\n",
       "4429  2022-03-23  2765.510010\n",
       "4430  2022-03-24  2831.439941\n",
       "\n",
       "[4431 rows x 2 columns]"
      ]
     },
     "execution_count": 4,
     "metadata": {},
     "output_type": "execute_result"
    }
   ],
   "source": [
    "data = df[['Date', 'Close']]\n",
    "data"
   ]
  },
  {
   "cell_type": "code",
   "execution_count": 5,
   "id": "470753e2",
   "metadata": {
    "execution": {
     "iopub.execute_input": "2024-04-08T16:31:18.090770Z",
     "iopub.status.busy": "2024-04-08T16:31:18.090517Z",
     "iopub.status.idle": "2024-04-08T16:31:18.548847Z",
     "shell.execute_reply": "2024-04-08T16:31:18.547951Z"
    },
    "papermill": {
     "duration": 0.472541,
     "end_time": "2024-04-08T16:31:18.550908",
     "exception": false,
     "start_time": "2024-04-08T16:31:18.078367",
     "status": "completed"
    },
    "tags": []
   },
   "outputs": [
    {
     "name": "stderr",
     "output_type": "stream",
     "text": [
      "/tmp/ipykernel_25/3250349648.py:1: SettingWithCopyWarning: \n",
      "A value is trying to be set on a copy of a slice from a DataFrame.\n",
      "Try using .loc[row_indexer,col_indexer] = value instead\n",
      "\n",
      "See the caveats in the documentation: https://pandas.pydata.org/pandas-docs/stable/user_guide/indexing.html#returning-a-view-versus-a-copy\n",
      "  data['Date'] = pd.to_datetime(data['Date'])\n"
     ]
    },
    {
     "data": {
      "text/plain": [
       "[<matplotlib.lines.Line2D at 0x7999af4ad450>]"
      ]
     },
     "execution_count": 5,
     "metadata": {},
     "output_type": "execute_result"
    },
    {
     "data": {
      "image/png": "[encoded data removed]",
      "text/plain": [
       "<Figure size 640x480 with 1 Axes>"
      ]
     },
     "metadata": {},
     "output_type": "display_data"
    }
   ],
   "source": [
    "data['Date'] = pd.to_datetime(data['Date'])\n",
    "plt.plot(data['Date'], data['Close'])"
   ]
  },
  {
   "cell_type": "code",
   "execution_count": 6,
   "id": "bddf923f",
   "metadata": {
    "execution": {
     "iopub.execute_input": "2024-04-08T16:31:18.575085Z",
     "iopub.status.busy": "2024-04-08T16:31:18.574755Z",
     "iopub.status.idle": "2024-04-08T16:31:18.603136Z",
     "shell.execute_reply": "2024-04-08T16:31:18.602166Z"
    },
    "papermill": {
     "duration": 0.042787,
     "end_time": "2024-04-08T16:31:18.605202",
     "exception": false,
     "start_time": "2024-04-08T16:31:18.562415",
     "status": "completed"
    },
    "tags": []
   },
   "outputs": [
    {
     "data": {
      "text/html": [
       "<div>\n",
       "<style scoped>\n",
       "    .dataframe tbody tr th:only-of-type {\n",
       "        vertical-align: middle;\n",
       "    }\n",
       "\n",
       "    .dataframe tbody tr th {\n",
       "        vertical-align: top;\n",
       "    }\n",
       "\n",
       "    .dataframe thead th {\n",
       "        text-align: right;\n",
       "    }\n",
       "</style>\n",
       "<table border=\"1\" class=\"dataframe\">\n",
       "  <thead>\n",
       "    <tr style=\"text-align: right;\">\n",
       "      <th></th>\n",
       "      <th>Close</th>\n",
       "      <th>Close(t-1)</th>\n",
       "      <th>Close(t-2)</th>\n",
       "      <th>Close(t-3)</th>\n",
       "      <th>Close(t-4)</th>\n",
       "      <th>Close(t-5)</th>\n",
       "      <th>Close(t-6)</th>\n",
       "      <th>Close(t-7)</th>\n",
       "    </tr>\n",
       "    <tr>\n",
       "      <th>Date</th>\n",
       "      <th></th>\n",
       "      <th></th>\n",
       "      <th></th>\n",
       "      <th></th>\n",
       "      <th></th>\n",
       "      <th></th>\n",
       "      <th></th>\n",
       "      <th></th>\n",
       "    </tr>\n",
       "  </thead>\n",
       "  <tbody>\n",
       "    <tr>\n",
       "      <th>2004-08-30</th>\n",
       "      <td>51.056057</td>\n",
       "      <td>53.128128</td>\n",
       "      <td>54.009010</td>\n",
       "      <td>53.053055</td>\n",
       "      <td>52.487488</td>\n",
       "      <td>54.754753</td>\n",
       "      <td>54.209209</td>\n",
       "      <td>50.220219</td>\n",
       "    </tr>\n",
       "    <tr>\n",
       "      <th>2004-08-31</th>\n",
       "      <td>51.236237</td>\n",
       "      <td>51.056057</td>\n",
       "      <td>53.128128</td>\n",
       "      <td>54.009010</td>\n",
       "      <td>53.053055</td>\n",
       "      <td>52.487488</td>\n",
       "      <td>54.754753</td>\n",
       "      <td>54.209209</td>\n",
       "    </tr>\n",
       "    <tr>\n",
       "      <th>2004-09-01</th>\n",
       "      <td>50.175175</td>\n",
       "      <td>51.236237</td>\n",
       "      <td>51.056057</td>\n",
       "      <td>53.128128</td>\n",
       "      <td>54.009010</td>\n",
       "      <td>53.053055</td>\n",
       "      <td>52.487488</td>\n",
       "      <td>54.754753</td>\n",
       "    </tr>\n",
       "    <tr>\n",
       "      <th>2004-09-02</th>\n",
       "      <td>50.805805</td>\n",
       "      <td>50.175175</td>\n",
       "      <td>51.236237</td>\n",
       "      <td>51.056057</td>\n",
       "      <td>53.128128</td>\n",
       "      <td>54.009010</td>\n",
       "      <td>53.053055</td>\n",
       "      <td>52.487488</td>\n",
       "    </tr>\n",
       "    <tr>\n",
       "      <th>2004-09-03</th>\n",
       "      <td>50.055054</td>\n",
       "      <td>50.805805</td>\n",
       "      <td>50.175175</td>\n",
       "      <td>51.236237</td>\n",
       "      <td>51.056057</td>\n",
       "      <td>53.128128</td>\n",
       "      <td>54.009010</td>\n",
       "      <td>53.053055</td>\n",
       "    </tr>\n",
       "    <tr>\n",
       "      <th>...</th>\n",
       "      <td>...</td>\n",
       "      <td>...</td>\n",
       "      <td>...</td>\n",
       "      <td>...</td>\n",
       "      <td>...</td>\n",
       "      <td>...</td>\n",
       "      <td>...</td>\n",
       "      <td>...</td>\n",
       "    </tr>\n",
       "    <tr>\n",
       "      <th>2022-03-18</th>\n",
       "      <td>2722.510010</td>\n",
       "      <td>2676.780029</td>\n",
       "      <td>2665.610107</td>\n",
       "      <td>2583.959961</td>\n",
       "      <td>2519.020020</td>\n",
       "      <td>2597.409912</td>\n",
       "      <td>2648.590088</td>\n",
       "      <td>2668.399902</td>\n",
       "    </tr>\n",
       "    <tr>\n",
       "      <th>2022-03-21</th>\n",
       "      <td>2722.030029</td>\n",
       "      <td>2722.510010</td>\n",
       "      <td>2676.780029</td>\n",
       "      <td>2665.610107</td>\n",
       "      <td>2583.959961</td>\n",
       "      <td>2519.020020</td>\n",
       "      <td>2597.409912</td>\n",
       "      <td>2648.590088</td>\n",
       "    </tr>\n",
       "    <tr>\n",
       "      <th>2022-03-22</th>\n",
       "      <td>2797.360107</td>\n",
       "      <td>2722.030029</td>\n",
       "      <td>2722.510010</td>\n",
       "      <td>2676.780029</td>\n",
       "      <td>2665.610107</td>\n",
       "      <td>2583.959961</td>\n",
       "      <td>2519.020020</td>\n",
       "      <td>2597.409912</td>\n",
       "    </tr>\n",
       "    <tr>\n",
       "      <th>2022-03-23</th>\n",
       "      <td>2765.510010</td>\n",
       "      <td>2797.360107</td>\n",
       "      <td>2722.030029</td>\n",
       "      <td>2722.510010</td>\n",
       "      <td>2676.780029</td>\n",
       "      <td>2665.610107</td>\n",
       "      <td>2583.959961</td>\n",
       "      <td>2519.020020</td>\n",
       "    </tr>\n",
       "    <tr>\n",
       "      <th>2022-03-24</th>\n",
       "      <td>2831.439941</td>\n",
       "      <td>2765.510010</td>\n",
       "      <td>2797.360107</td>\n",
       "      <td>2722.030029</td>\n",
       "      <td>2722.510010</td>\n",
       "      <td>2676.780029</td>\n",
       "      <td>2665.610107</td>\n",
       "      <td>2583.959961</td>\n",
       "    </tr>\n",
       "  </tbody>\n",
       "</table>\n",
       "<p>4424 rows × 8 columns</p>\n",
       "</div>"
      ],
      "text/plain": [
       "                  Close   Close(t-1)   Close(t-2)   Close(t-3)   Close(t-4)  \\\n",
       "Date                                                                          \n",
       "2004-08-30    51.056057    53.128128    54.009010    53.053055    52.487488   \n",
       "2004-08-31    51.236237    51.056057    53.128128    54.009010    53.053055   \n",
       "2004-09-01    50.175175    51.236237    51.056057    53.128128    54.009010   \n",
       "2004-09-02    50.805805    50.175175    51.236237    51.056057    53.128128   \n",
       "2004-09-03    50.055054    50.805805    50.175175    51.236237    51.056057   \n",
       "...                 ...          ...          ...          ...          ...   \n",
       "2022-03-18  2722.510010  2676.780029  2665.610107  2583.959961  2519.020020   \n",
       "2022-03-21  2722.030029  2722.510010  2676.780029  2665.610107  2583.959961   \n",
       "2022-03-22  2797.360107  2722.030029  2722.510010  2676.780029  2665.610107   \n",
       "2022-03-23  2765.510010  2797.360107  2722.030029  2722.510010  2676.780029   \n",
       "2022-03-24  2831.439941  2765.510010  2797.360107  2722.030029  2722.510010   \n",
       "\n",
       "             Close(t-5)   Close(t-6)   Close(t-7)  \n",
       "Date                                               \n",
       "2004-08-30    54.754753    54.209209    50.220219  \n",
       "2004-08-31    52.487488    54.754753    54.209209  \n",
       "2004-09-01    53.053055    52.487488    54.754753  \n",
       "2004-09-02    54.009010    53.053055    52.487488  \n",
       "2004-09-03    53.128128    54.009010    53.053055  \n",
       "...                 ...          ...          ...  \n",
       "2022-03-18  2597.409912  2648.590088  2668.399902  \n",
       "2022-03-21  2519.020020  2597.409912  2648.590088  \n",
       "2022-03-22  2583.959961  2519.020020  2597.409912  \n",
       "2022-03-23  2665.610107  2583.959961  2519.020020  \n",
       "2022-03-24  2676.780029  2665.610107  2583.959961  \n",
       "\n",
       "[4424 rows x 8 columns]"
      ]
     },
     "execution_count": 6,
     "metadata": {},
     "output_type": "execute_result"
    }
   ],
   "source": [
    "from copy import deepcopy as dc\n",
    "\n",
    "def prepare_dataframe_for_lstm(df, n_steps):\n",
    "    df = dc(df)\n",
    "    \n",
    "    df.set_index('Date', inplace=True)\n",
    "    \n",
    "    for i in range(1, n_steps+1):\n",
    "        df[f'Close(t-{i})'] = df['Close'].shift(i)\n",
    "        \n",
    "    df.dropna(inplace=True)\n",
    "    \n",
    "    return df\n",
    "\n",
    "lookback = 7\n",
    "shifted_df = prepare_dataframe_for_lstm(data, lookback)\n",
    "shifted_df"
   ]
  },
  {
   "cell_type": "code",
   "execution_count": 7,
   "id": "6530942b",
   "metadata": {
    "execution": {
     "iopub.execute_input": "2024-04-08T16:31:18.629687Z",
     "iopub.status.busy": "2024-04-08T16:31:18.629402Z",
     "iopub.status.idle": "2024-04-08T16:31:18.636073Z",
     "shell.execute_reply": "2024-04-08T16:31:18.635156Z"
    },
    "papermill": {
     "duration": 0.021302,
     "end_time": "2024-04-08T16:31:18.638181",
     "exception": false,
     "start_time": "2024-04-08T16:31:18.616879",
     "status": "completed"
    },
    "tags": []
   },
   "outputs": [
    {
     "data": {
      "text/plain": [
       "array([[  51.056057,   53.128128,   54.00901 , ...,   54.754753,\n",
       "          54.209209,   50.220219],\n",
       "       [  51.236237,   51.056057,   53.128128, ...,   52.487488,\n",
       "          54.754753,   54.209209],\n",
       "       [  50.175175,   51.236237,   51.056057, ...,   53.053055,\n",
       "          52.487488,   54.754753],\n",
       "       ...,\n",
       "       [2797.360107, 2722.030029, 2722.51001 , ..., 2583.959961,\n",
       "        2519.02002 , 2597.409912],\n",
       "       [2765.51001 , 2797.360107, 2722.030029, ..., 2665.610107,\n",
       "        2583.959961, 2519.02002 ],\n",
       "       [2831.439941, 2765.51001 , 2797.360107, ..., 2676.780029,\n",
       "        2665.610107, 2583.959961]])"
      ]
     },
     "execution_count": 7,
     "metadata": {},
     "output_type": "execute_result"
    }
   ],
   "source": [
    "shifted_df_as_np = shifted_df.to_numpy()\n",
    "\n",
    "shifted_df_as_np"
   ]
  },
  {
   "cell_type": "code",
   "execution_count": 8,
   "id": "b62e8d65",
   "metadata": {
    "execution": {
     "iopub.execute_input": "2024-04-08T16:31:18.663898Z",
     "iopub.status.busy": "2024-04-08T16:31:18.663567Z",
     "iopub.status.idle": "2024-04-08T16:31:18.669147Z",
     "shell.execute_reply": "2024-04-08T16:31:18.668267Z"
    },
    "papermill": {
     "duration": 0.020235,
     "end_time": "2024-04-08T16:31:18.671161",
     "exception": false,
     "start_time": "2024-04-08T16:31:18.650926",
     "status": "completed"
    },
    "tags": []
   },
   "outputs": [
    {
     "data": {
      "text/plain": [
       "(4424, 8)"
      ]
     },
     "execution_count": 8,
     "metadata": {},
     "output_type": "execute_result"
    }
   ],
   "source": [
    "shifted_df_as_np.shape"
   ]
  },
  {
   "cell_type": "code",
   "execution_count": 9,
   "id": "30408c3e",
   "metadata": {
    "execution": {
     "iopub.execute_input": "2024-04-08T16:31:18.705639Z",
     "iopub.status.busy": "2024-04-08T16:31:18.704913Z",
     "iopub.status.idle": "2024-04-08T16:31:19.737808Z",
     "shell.execute_reply": "2024-04-08T16:31:19.736845Z"
    },
    "papermill": {
     "duration": 1.053046,
     "end_time": "2024-04-08T16:31:19.739971",
     "exception": false,
     "start_time": "2024-04-08T16:31:18.686925",
     "status": "completed"
    },
    "tags": []
   },
   "outputs": [
    {
     "data": {
      "text/plain": [
       "array([[-0.9993206 , -0.99791424, -0.99731636, ..., -0.99681021,\n",
       "        -0.99718048, -0.9998879 ],\n",
       "       [-0.99919831, -0.9993206 , -0.99791424, ..., -0.99834905,\n",
       "        -0.99681021, -0.99718048],\n",
       "       [-0.99991847, -0.99919831, -0.9993206 , ..., -0.99796519,\n",
       "        -0.99834905, -0.99681021],\n",
       "       ...,\n",
       "       [ 0.86465612,  0.81352795,  0.81385372, ...,  0.71981677,\n",
       "         0.67574061,  0.72894555],\n",
       "       [ 0.84303877,  0.86465612,  0.81352795, ...,  0.77523451,\n",
       "         0.71981677,  0.67574061],\n",
       "       [ 0.88778685,  0.84303877,  0.86465612, ...,  0.78281578,\n",
       "         0.77523451,  0.71981677]])"
      ]
     },
     "execution_count": 9,
     "metadata": {},
     "output_type": "execute_result"
    }
   ],
   "source": [
    "from sklearn.preprocessing import MinMaxScaler\n",
    "\n",
    "scaler = MinMaxScaler(feature_range=(-1, 1))\n",
    "shifted_df_as_np = scaler.fit_transform(shifted_df_as_np)\n",
    "\n",
    "shifted_df_as_np"
   ]
  },
  {
   "cell_type": "code",
   "execution_count": 10,
   "id": "e8e29012",
   "metadata": {
    "execution": {
     "iopub.execute_input": "2024-04-08T16:31:19.766975Z",
     "iopub.status.busy": "2024-04-08T16:31:19.766541Z",
     "iopub.status.idle": "2024-04-08T16:31:19.773258Z",
     "shell.execute_reply": "2024-04-08T16:31:19.772349Z"
    },
    "papermill": {
     "duration": 0.02216,
     "end_time": "2024-04-08T16:31:19.775288",
     "exception": false,
     "start_time": "2024-04-08T16:31:19.753128",
     "status": "completed"
    },
    "tags": []
   },
   "outputs": [
    {
     "data": {
      "text/plain": [
       "((4424, 7), (4424,))"
      ]
     },
     "execution_count": 10,
     "metadata": {},
     "output_type": "execute_result"
    }
   ],
   "source": [
    "X = shifted_df_as_np[:, 1:]\n",
    "X = dc(np.flip(X, axis=1)) #flip theo đúng thứ tự thời gian\n",
    "y = shifted_df_as_np[:, 0]\n",
    "X.shape, y.shape"
   ]
  },
  {
   "cell_type": "code",
   "execution_count": 11,
   "id": "b0609fbe",
   "metadata": {
    "execution": {
     "iopub.execute_input": "2024-04-08T16:31:19.800941Z",
     "iopub.status.busy": "2024-04-08T16:31:19.800653Z",
     "iopub.status.idle": "2024-04-08T16:31:19.805589Z",
     "shell.execute_reply": "2024-04-08T16:31:19.804851Z"
    },
    "papermill": {
     "duration": 0.019909,
     "end_time": "2024-04-08T16:31:19.807575",
     "exception": false,
     "start_time": "2024-04-08T16:31:19.787666",
     "status": "completed"
    },
    "tags": []
   },
   "outputs": [],
   "source": [
    "split_val_index = int(len(X) * 0.5)\n",
    "split_test_index = int(len(X) * 0.7)"
   ]
  },
  {
   "cell_type": "code",
   "execution_count": 12,
   "id": "4d540828",
   "metadata": {
    "execution": {
     "iopub.execute_input": "2024-04-08T16:31:19.833423Z",
     "iopub.status.busy": "2024-04-08T16:31:19.833164Z",
     "iopub.status.idle": "2024-04-08T16:31:19.840473Z",
     "shell.execute_reply": "2024-04-08T16:31:19.839644Z"
    },
    "papermill": {
     "duration": 0.022401,
     "end_time": "2024-04-08T16:31:19.842579",
     "exception": false,
     "start_time": "2024-04-08T16:31:19.820178",
     "status": "completed"
    },
    "tags": []
   },
   "outputs": [
    {
     "data": {
      "text/plain": [
       "((2212, 7), (884, 7), (1328, 7), (2212,), (884,), (1328,))"
      ]
     },
     "execution_count": 12,
     "metadata": {},
     "output_type": "execute_result"
    }
   ],
   "source": [
    "X_train = X[:split_val_index]\n",
    "X_val = X[split_val_index : split_test_index]\n",
    "X_test = X[split_test_index:]\n",
    "\n",
    "y_train = y[:split_val_index]\n",
    "y_val = y[split_val_index : split_test_index]\n",
    "y_test = y[split_test_index:]\n",
    "\n",
    "X_train.shape, X_val.shape, X_test.shape, y_train.shape, y_val.shape, y_test.shape"
   ]
  },
  {
   "cell_type": "code",
   "execution_count": 13,
   "id": "59e98cd1",
   "metadata": {
    "execution": {
     "iopub.execute_input": "2024-04-08T16:31:19.874008Z",
     "iopub.status.busy": "2024-04-08T16:31:19.873481Z",
     "iopub.status.idle": "2024-04-08T16:31:19.882394Z",
     "shell.execute_reply": "2024-04-08T16:31:19.881482Z"
    },
    "papermill": {
     "duration": 0.025851,
     "end_time": "2024-04-08T16:31:19.884332",
     "exception": false,
     "start_time": "2024-04-08T16:31:19.858481",
     "status": "completed"
    },
    "tags": []
   },
   "outputs": [
    {
     "data": {
      "text/plain": [
       "((2212, 7, 1), (1328, 7, 1), (2212, 1), (1328, 1))"
      ]
     },
     "execution_count": 13,
     "metadata": {},
     "output_type": "execute_result"
    }
   ],
   "source": [
    "X_train = X_train.reshape((-1, lookback, 1))\n",
    "X_val = X_val.reshape((-1, lookback, 1))\n",
    "X_test = X_test.reshape((-1, lookback, 1))\n",
    "\n",
    "y_train = y_train.reshape((-1, 1))\n",
    "y_val = y_val.reshape((-1, 1))\n",
    "y_test = y_test.reshape((-1, 1))\n",
    "\n",
    "X_train.shape, X_test.shape, y_train.shape, y_test.shape"
   ]
  },
  {
   "cell_type": "code",
   "execution_count": 14,
   "id": "25c67e24",
   "metadata": {
    "execution": {
     "iopub.execute_input": "2024-04-08T16:31:19.913120Z",
     "iopub.status.busy": "2024-04-08T16:31:19.912828Z",
     "iopub.status.idle": "2024-04-08T16:31:19.948386Z",
     "shell.execute_reply": "2024-04-08T16:31:19.947559Z"
    },
    "papermill": {
     "duration": 0.051796,
     "end_time": "2024-04-08T16:31:19.950310",
     "exception": false,
     "start_time": "2024-04-08T16:31:19.898514",
     "status": "completed"
    },
    "tags": []
   },
   "outputs": [
    {
     "data": {
      "text/plain": [
       "(torch.Size([2212, 7, 1]),\n",
       " torch.Size([1328, 7, 1]),\n",
       " torch.Size([2212, 1]),\n",
       " torch.Size([1328, 1]))"
      ]
     },
     "execution_count": 14,
     "metadata": {},
     "output_type": "execute_result"
    }
   ],
   "source": [
    "X_train = torch.tensor(X_train).float()\n",
    "y_train = torch.tensor(y_train).float()\n",
    "X_val = torch.tensor(X_val).float()\n",
    "y_val = torch.tensor(y_val).float()\n",
    "X_test = torch.tensor(X_test).float()\n",
    "y_test = torch.tensor(y_test).float()\n",
    "\n",
    "X_train.shape, X_test.shape, y_train.shape, y_test.shape"
   ]
  },
  {
   "cell_type": "code",
   "execution_count": 15,
   "id": "13a7cfe3",
   "metadata": {
    "execution": {
     "iopub.execute_input": "2024-04-08T16:31:19.976602Z",
     "iopub.status.busy": "2024-04-08T16:31:19.976349Z",
     "iopub.status.idle": "2024-04-08T16:31:19.982391Z",
     "shell.execute_reply": "2024-04-08T16:31:19.981513Z"
    },
    "papermill": {
     "duration": 0.021222,
     "end_time": "2024-04-08T16:31:19.984321",
     "exception": false,
     "start_time": "2024-04-08T16:31:19.963099",
     "status": "completed"
    },
    "tags": []
   },
   "outputs": [],
   "source": [
    "from torch.utils.data import Dataset\n",
    "\n",
    "class TimeSeriesDataset(Dataset):\n",
    "    def __init__(self, X, y):\n",
    "        self.X = X\n",
    "        self.y = y\n",
    "\n",
    "    def __len__(self):\n",
    "        return len(self.X)\n",
    "\n",
    "    def __getitem__(self, i):\n",
    "        return self.X[i], self.y[i]\n",
    "    \n",
    "train_dataset = TimeSeriesDataset(X_train, y_train)\n",
    "val_dataset = TimeSeriesDataset(X_val, y_val)\n",
    "test_dataset = TimeSeriesDataset(X_test, y_test)"
   ]
  },
  {
   "cell_type": "code",
   "execution_count": 16,
   "id": "09dbff82",
   "metadata": {
    "execution": {
     "iopub.execute_input": "2024-04-08T16:31:20.011475Z",
     "iopub.status.busy": "2024-04-08T16:31:20.011197Z",
     "iopub.status.idle": "2024-04-08T16:31:20.015184Z",
     "shell.execute_reply": "2024-04-08T16:31:20.014387Z"
    },
    "papermill": {
     "duration": 0.019789,
     "end_time": "2024-04-08T16:31:20.017151",
     "exception": false,
     "start_time": "2024-04-08T16:31:19.997362",
     "status": "completed"
    },
    "tags": []
   },
   "outputs": [],
   "source": [
    "from torch.utils.data import DataLoader\n",
    "\n",
    "batch_size = 16"
   ]
  },
  {
   "cell_type": "code",
   "execution_count": 17,
   "id": "d58f9dcc",
   "metadata": {
    "execution": {
     "iopub.execute_input": "2024-04-08T16:31:20.044630Z",
     "iopub.status.busy": "2024-04-08T16:31:20.044373Z",
     "iopub.status.idle": "2024-04-08T16:31:20.049113Z",
     "shell.execute_reply": "2024-04-08T16:31:20.048329Z"
    },
    "papermill": {
     "duration": 0.020563,
     "end_time": "2024-04-08T16:31:20.050860",
     "exception": false,
     "start_time": "2024-04-08T16:31:20.030297",
     "status": "completed"
    },
    "tags": []
   },
   "outputs": [],
   "source": [
    "train_loader = DataLoader(train_dataset, batch_size=batch_size, shuffle=True)\n",
    "val_loader = DataLoader(val_dataset, batch_size=batch_size, shuffle=True)\n",
    "test_loader = DataLoader(test_dataset, batch_size=batch_size, shuffle=False)"
   ]
  },
  {
   "cell_type": "code",
   "execution_count": 18,
   "id": "0cadabc2",
   "metadata": {
    "execution": {
     "iopub.execute_input": "2024-04-08T16:31:20.076951Z",
     "iopub.status.busy": "2024-04-08T16:31:20.076660Z",
     "iopub.status.idle": "2024-04-08T16:31:20.276874Z",
     "shell.execute_reply": "2024-04-08T16:31:20.275826Z"
    },
    "papermill": {
     "duration": 0.215897,
     "end_time": "2024-04-08T16:31:20.279083",
     "exception": false,
     "start_time": "2024-04-08T16:31:20.063186",
     "status": "completed"
    },
    "tags": []
   },
   "outputs": [
    {
     "name": "stdout",
     "output_type": "stream",
     "text": [
      "torch.Size([16, 7, 1]) torch.Size([16, 1])\n"
     ]
    }
   ],
   "source": [
    "for _, batch in enumerate(train_loader):\n",
    "    x_batch, y_batch = batch[0].to(device), batch[1].to(device)\n",
    "    print(x_batch.shape, y_batch.shape)\n",
    "    break"
   ]
  },
  {
   "cell_type": "code",
   "execution_count": 19,
   "id": "e6d4ced4",
   "metadata": {
    "execution": {
     "iopub.execute_input": "2024-04-08T16:31:20.306658Z",
     "iopub.status.busy": "2024-04-08T16:31:20.306387Z",
     "iopub.status.idle": "2024-04-08T16:31:20.310519Z",
     "shell.execute_reply": "2024-04-08T16:31:20.309645Z"
    },
    "papermill": {
     "duration": 0.020063,
     "end_time": "2024-04-08T16:31:20.312526",
     "exception": false,
     "start_time": "2024-04-08T16:31:20.292463",
     "status": "completed"
    },
    "tags": []
   },
   "outputs": [],
   "source": [
    "input_size = 1 # at each time step, the model receive 1 feature as input\n",
    "hidden_size = 20\n",
    "num_stacked_layers = 2"
   ]
  },
  {
   "cell_type": "code",
   "execution_count": 20,
   "id": "85a4665b",
   "metadata": {
    "execution": {
     "iopub.execute_input": "2024-04-08T16:31:20.339540Z",
     "iopub.status.busy": "2024-04-08T16:31:20.339268Z",
     "iopub.status.idle": "2024-04-08T16:31:20.458099Z",
     "shell.execute_reply": "2024-04-08T16:31:20.456987Z"
    },
    "papermill": {
     "duration": 0.134977,
     "end_time": "2024-04-08T16:31:20.460286",
     "exception": false,
     "start_time": "2024-04-08T16:31:20.325309",
     "status": "completed"
    },
    "tags": []
   },
   "outputs": [
    {
     "data": {
      "text/plain": [
       "LSTM(\n",
       "  (lstm): LSTM(1, 20, num_layers=2, batch_first=True)\n",
       "  (drop): Dropout(p=0.1, inplace=False)\n",
       "  (fc): Linear(in_features=20, out_features=1, bias=True)\n",
       ")"
      ]
     },
     "execution_count": 20,
     "metadata": {},
     "output_type": "execute_result"
    }
   ],
   "source": [
    "class LSTM(nn.Module):\n",
    "    def __init__(self, input_size, hidden_size, num_stacked_layers):\n",
    "        super().__init__()\n",
    "        self.hidden_size = hidden_size\n",
    "        self.num_stacked_layers = num_stacked_layers\n",
    "\n",
    "        self.lstm = nn.LSTM(input_size, hidden_size, num_stacked_layers, batch_first=True)\n",
    "        self.drop = nn.Dropout(0.1)\n",
    "        self.fc = nn.Linear(hidden_size, 1)\n",
    "#         self.act = nn.Tanh()\n",
    "\n",
    "    def forward(self, x):\n",
    "        batch_size = x.size(0)\n",
    "        h0 = torch.zeros(self.num_stacked_layers, batch_size, self.hidden_size).to(device)\n",
    "        c0 = torch.zeros(self.num_stacked_layers, batch_size, self.hidden_size).to(device)\n",
    "        \n",
    "        out, _ = self.lstm(x, (h0, c0))\n",
    "#         out = self.drop(out)\n",
    "#         out = self.act(out)\n",
    "        out = self.fc(out[:, -1, :])\n",
    "#         out = out.mean(dim=1)\n",
    "#         out = self.fc(out)\n",
    "        return out\n",
    "\n",
    "model = LSTM(input_size, hidden_size, num_stacked_layers)\n",
    "model.to(device)\n",
    "model"
   ]
  },
  {
   "cell_type": "code",
   "execution_count": 21,
   "id": "0b5fb30f",
   "metadata": {
    "execution": {
     "iopub.execute_input": "2024-04-08T16:31:20.487723Z",
     "iopub.status.busy": "2024-04-08T16:31:20.487030Z",
     "iopub.status.idle": "2024-04-08T16:31:20.490956Z",
     "shell.execute_reply": "2024-04-08T16:31:20.490118Z"
    },
    "papermill": {
     "duration": 0.019492,
     "end_time": "2024-04-08T16:31:20.492832",
     "exception": false,
     "start_time": "2024-04-08T16:31:20.473340",
     "status": "completed"
    },
    "tags": []
   },
   "outputs": [],
   "source": [
    "train_losses, val_losses = [], []\n",
    "min_val_loss = 100"
   ]
  },
  {
   "cell_type": "code",
   "execution_count": 22,
   "id": "31ac2bc2",
   "metadata": {
    "execution": {
     "iopub.execute_input": "2024-04-08T16:31:20.518755Z",
     "iopub.status.busy": "2024-04-08T16:31:20.518514Z",
     "iopub.status.idle": "2024-04-08T16:31:20.524665Z",
     "shell.execute_reply": "2024-04-08T16:31:20.523902Z"
    },
    "papermill": {
     "duration": 0.021191,
     "end_time": "2024-04-08T16:31:20.526529",
     "exception": false,
     "start_time": "2024-04-08T16:31:20.505338",
     "status": "completed"
    },
    "tags": []
   },
   "outputs": [],
   "source": [
    "def train_one_epoch():\n",
    "    model.train(True)\n",
    "    print(f'Epoch: {epoch + 1}')\n",
    "    running_loss = 0.0\n",
    "    \n",
    "    for batch_index, batch in enumerate(train_loader):\n",
    "        x_batch, y_batch = batch[0].to(device), batch[1].to(device)\n",
    "        \n",
    "        output = model(x_batch)\n",
    "        loss = loss_function(output, y_batch)\n",
    "        running_loss += loss.item()\n",
    "        \n",
    "        optimizer.zero_grad()\n",
    "        loss.backward()\n",
    "        optimizer.step()\n",
    "\n",
    "    avg_loss_across_batches = running_loss / len(train_loader)\n",
    "    train_losses.append(avg_loss_across_batches)\n",
    "    print('Average train loss: {0:.3f}'.format(avg_loss_across_batches))\n",
    "    print()"
   ]
  },
  {
   "cell_type": "code",
   "execution_count": 23,
   "id": "d0980843",
   "metadata": {
    "execution": {
     "iopub.execute_input": "2024-04-08T16:31:20.552548Z",
     "iopub.status.busy": "2024-04-08T16:31:20.552312Z",
     "iopub.status.idle": "2024-04-08T16:31:20.559245Z",
     "shell.execute_reply": "2024-04-08T16:31:20.558332Z"
    },
    "papermill": {
     "duration": 0.022022,
     "end_time": "2024-04-08T16:31:20.561107",
     "exception": false,
     "start_time": "2024-04-08T16:31:20.539085",
     "status": "completed"
    },
    "tags": []
   },
   "outputs": [],
   "source": [
    "def validate_one_epoch(loader, min_val_loss):\n",
    "    model.train(False)\n",
    "    running_loss = 0.0\n",
    "    \n",
    "    for batch_index, batch in enumerate(loader):\n",
    "        x_batch, y_batch = batch[0].to(device), batch[1].to(device)\n",
    "        \n",
    "        with torch.no_grad():\n",
    "            output = model(x_batch)\n",
    "            loss = loss_function(output, y_batch)\n",
    "            running_loss += loss.item()\n",
    "\n",
    "    avg_loss_across_batches = running_loss / len(loader)\n",
    "    \n",
    "    print('Average valid loss: {0:.6f}'.format(avg_loss_across_batches))\n",
    "    val_losses.append(avg_loss_across_batches)\n",
    "    if (avg_loss_across_batches < min_val_loss):\n",
    "        min_val_loss = avg_loss_across_batches\n",
    "        torch.save(model.state_dict(), '/kaggle/working/LSTM_model_timeSeries.ckpt')\n",
    "        print('Saving model...')\n",
    "    print(25 * '---')\n",
    "    print()\n",
    "    return min_val_loss"
   ]
  },
  {
   "cell_type": "code",
   "execution_count": 24,
   "id": "4b888fbe",
   "metadata": {
    "execution": {
     "iopub.execute_input": "2024-04-08T16:31:20.587689Z",
     "iopub.status.busy": "2024-04-08T16:31:20.587430Z",
     "iopub.status.idle": "2024-04-08T16:31:20.593548Z",
     "shell.execute_reply": "2024-04-08T16:31:20.592605Z"
    },
    "papermill": {
     "duration": 0.021371,
     "end_time": "2024-04-08T16:31:20.595488",
     "exception": false,
     "start_time": "2024-04-08T16:31:20.574117",
     "status": "completed"
    },
    "tags": []
   },
   "outputs": [],
   "source": [
    "def test_one_epoch(loader):\n",
    "    model.train(False)\n",
    "    running_loss = 0.0\n",
    "    \n",
    "    for batch_index, batch in enumerate(loader):\n",
    "        x_batch, y_batch = batch[0].to(device), batch[1].to(device)\n",
    "        \n",
    "        with torch.no_grad():\n",
    "            output = model(x_batch)\n",
    "            loss = loss_function(output, y_batch)\n",
    "            running_loss += loss.item()\n",
    "\n",
    "    avg_loss_across_batches = running_loss / len(loader)\n",
    "    \n",
    "    print('Loss: {0:.6f}'.format(avg_loss_across_batches))\n",
    "    print(25 * '---')\n",
    "    print()"
   ]
  },
  {
   "cell_type": "code",
   "execution_count": 25,
   "id": "aa02c2f5",
   "metadata": {
    "execution": {
     "iopub.execute_input": "2024-04-08T16:31:20.621892Z",
     "iopub.status.busy": "2024-04-08T16:31:20.621606Z",
     "iopub.status.idle": "2024-04-08T16:31:23.254121Z",
     "shell.execute_reply": "2024-04-08T16:31:23.253298Z"
    },
    "papermill": {
     "duration": 2.648265,
     "end_time": "2024-04-08T16:31:23.256468",
     "exception": false,
     "start_time": "2024-04-08T16:31:20.608203",
     "status": "completed"
    },
    "tags": []
   },
   "outputs": [],
   "source": [
    "lr = 5e-4\n",
    "num_epochs = 30\n",
    "loss_function = nn.MSELoss()\n",
    "weight_decay = 1e-4\n",
    "optimizer = torch.optim.Adam(model.parameters(), lr=lr, weight_decay = weight_decay)"
   ]
  },
  {
   "cell_type": "code",
   "execution_count": 26,
   "id": "49c539f9",
   "metadata": {
    "execution": {
     "iopub.execute_input": "2024-04-08T16:31:23.285786Z",
     "iopub.status.busy": "2024-04-08T16:31:23.285387Z",
     "iopub.status.idle": "2024-04-08T16:31:34.448956Z",
     "shell.execute_reply": "2024-04-08T16:31:34.447656Z"
    },
    "papermill": {
     "duration": 11.180318,
     "end_time": "2024-04-08T16:31:34.450895",
     "exception": false,
     "start_time": "2024-04-08T16:31:23.270577",
     "status": "completed"
    },
    "tags": []
   },
   "outputs": [
    {
     "name": "stdout",
     "output_type": "stream",
     "text": [
      "Epoch: 1\n",
      "Average train loss: 0.169\n",
      "\n",
      "Average valid loss: 0.050965\n",
      "Saving model...\n",
      "---------------------------------------------------------------------------\n",
      "\n",
      "Epoch: 2\n",
      "Average train loss: 0.002\n",
      "\n",
      "Average valid loss: 0.053752\n",
      "---------------------------------------------------------------------------\n",
      "\n",
      "Epoch: 3\n",
      "Average train loss: 0.002\n",
      "\n",
      "Average valid loss: 0.052979\n",
      "---------------------------------------------------------------------------\n",
      "\n",
      "Epoch: 4\n",
      "Average train loss: 0.002\n",
      "\n",
      "Average valid loss: 0.046927\n",
      "Saving model...\n",
      "---------------------------------------------------------------------------\n",
      "\n",
      "Epoch: 5\n",
      "Average train loss: 0.002\n",
      "\n",
      "Average valid loss: 0.040683\n",
      "Saving model...\n",
      "---------------------------------------------------------------------------\n",
      "\n",
      "Epoch: 6\n",
      "Average train loss: 0.002\n",
      "\n",
      "Average valid loss: 0.038578\n",
      "Saving model...\n",
      "---------------------------------------------------------------------------\n",
      "\n",
      "Epoch: 7\n",
      "Average train loss: 0.002\n",
      "\n",
      "Average valid loss: 0.040238\n",
      "---------------------------------------------------------------------------\n",
      "\n",
      "Epoch: 8\n",
      "Average train loss: 0.001\n",
      "\n",
      "Average valid loss: 0.031444\n",
      "Saving model...\n",
      "---------------------------------------------------------------------------\n",
      "\n",
      "Epoch: 9\n",
      "Average train loss: 0.001\n",
      "\n",
      "Average valid loss: 0.025319\n",
      "Saving model...\n",
      "---------------------------------------------------------------------------\n",
      "\n",
      "Epoch: 10\n",
      "Average train loss: 0.001\n",
      "\n",
      "Average valid loss: 0.024136\n",
      "Saving model...\n",
      "---------------------------------------------------------------------------\n",
      "\n",
      "Epoch: 11\n",
      "Average train loss: 0.001\n",
      "\n",
      "Average valid loss: 0.014796\n",
      "Saving model...\n",
      "---------------------------------------------------------------------------\n",
      "\n",
      "Epoch: 12\n",
      "Average train loss: 0.000\n",
      "\n",
      "Average valid loss: 0.009530\n",
      "Saving model...\n",
      "---------------------------------------------------------------------------\n",
      "\n",
      "Epoch: 13\n",
      "Average train loss: 0.000\n",
      "\n",
      "Average valid loss: 0.004555\n",
      "Saving model...\n",
      "---------------------------------------------------------------------------\n",
      "\n",
      "Epoch: 14\n",
      "Average train loss: 0.000\n",
      "\n",
      "Average valid loss: 0.002430\n",
      "Saving model...\n",
      "---------------------------------------------------------------------------\n",
      "\n",
      "Epoch: 15\n",
      "Average train loss: 0.000\n",
      "\n",
      "Average valid loss: 0.002001\n",
      "Saving model...\n",
      "---------------------------------------------------------------------------\n",
      "\n",
      "Epoch: 16\n",
      "Average train loss: 0.000\n",
      "\n",
      "Average valid loss: 0.001620\n",
      "Saving model...\n",
      "---------------------------------------------------------------------------\n",
      "\n",
      "Epoch: 17\n",
      "Average train loss: 0.000\n",
      "\n",
      "Average valid loss: 0.001647\n",
      "---------------------------------------------------------------------------\n",
      "\n",
      "Epoch: 18\n",
      "Average train loss: 0.000\n",
      "\n",
      "Average valid loss: 0.001261\n",
      "Saving model...\n",
      "---------------------------------------------------------------------------\n",
      "\n",
      "Epoch: 19\n",
      "Average train loss: 0.000\n",
      "\n",
      "Average valid loss: 0.001288\n",
      "---------------------------------------------------------------------------\n",
      "\n",
      "Epoch: 20\n",
      "Average train loss: 0.000\n",
      "\n",
      "Average valid loss: 0.001324\n",
      "---------------------------------------------------------------------------\n",
      "\n",
      "Epoch: 21\n",
      "Average train loss: 0.000\n",
      "\n",
      "Average valid loss: 0.000989\n",
      "Saving model...\n",
      "---------------------------------------------------------------------------\n",
      "\n",
      "Epoch: 22\n",
      "Average train loss: 0.000\n",
      "\n",
      "Average valid loss: 0.001124\n",
      "---------------------------------------------------------------------------\n",
      "\n",
      "Epoch: 23\n",
      "Average train loss: 0.000\n",
      "\n",
      "Average valid loss: 0.000866\n",
      "Saving model...\n",
      "---------------------------------------------------------------------------\n",
      "\n",
      "Epoch: 24\n",
      "Average train loss: 0.000\n",
      "\n",
      "Average valid loss: 0.000788\n",
      "Saving model...\n",
      "---------------------------------------------------------------------------\n",
      "\n",
      "Epoch: 25\n",
      "Average train loss: 0.000\n",
      "\n",
      "Average valid loss: 0.000832\n",
      "---------------------------------------------------------------------------\n",
      "\n",
      "Epoch: 26\n",
      "Average train loss: 0.000\n",
      "\n",
      "Average valid loss: 0.000819\n",
      "---------------------------------------------------------------------------\n",
      "\n",
      "Epoch: 27\n",
      "Average train loss: 0.000\n",
      "\n",
      "Average valid loss: 0.000554\n",
      "Saving model...\n",
      "---------------------------------------------------------------------------\n",
      "\n",
      "Epoch: 28\n",
      "Average train loss: 0.000\n",
      "\n",
      "Average valid loss: 0.000584\n",
      "---------------------------------------------------------------------------\n",
      "\n",
      "Epoch: 29\n",
      "Average train loss: 0.000\n",
      "\n",
      "Average valid loss: 0.000712\n",
      "---------------------------------------------------------------------------\n",
      "\n",
      "Epoch: 30\n",
      "Average train loss: 0.000\n",
      "\n",
      "Average valid loss: 0.000549\n",
      "Saving model...\n",
      "---------------------------------------------------------------------------\n",
      "\n"
     ]
    }
   ],
   "source": [
    "min_val_loss = float('inf')\n",
    "for epoch in range(num_epochs):\n",
    "    train_one_epoch()\n",
    "    min_val_loss = validate_one_epoch(val_loader, min_val_loss)"
   ]
  },
  {
   "cell_type": "code",
   "execution_count": 27,
   "id": "97e09eaf",
   "metadata": {
    "execution": {
     "iopub.execute_input": "2024-04-08T16:31:34.484937Z",
     "iopub.status.busy": "2024-04-08T16:31:34.484346Z",
     "iopub.status.idle": "2024-04-08T16:31:34.707708Z",
     "shell.execute_reply": "2024-04-08T16:31:34.706551Z"
    },
    "papermill": {
     "duration": 0.24245,
     "end_time": "2024-04-08T16:31:34.709953",
     "exception": false,
     "start_time": "2024-04-08T16:31:34.467503",
     "status": "completed"
    },
    "tags": []
   },
   "outputs": [
    {
     "name": "stdout",
     "output_type": "stream",
     "text": [
      "MSELoss on train set\n",
      "Loss: 0.000049\n",
      "---------------------------------------------------------------------------\n",
      "\n",
      "MSELoss on validation set\n",
      "Loss: 0.000536\n",
      "---------------------------------------------------------------------------\n",
      "\n",
      "MSELoss on test set\n",
      "Loss: 0.167950\n",
      "---------------------------------------------------------------------------\n",
      "\n"
     ]
    }
   ],
   "source": [
    "with torch.no_grad():\n",
    "    print('MSELoss on train set')\n",
    "    train_predictions = model(X_train.to(device)).to('cpu').numpy()\n",
    "    test_one_epoch(train_loader)\n",
    "    \n",
    "    print('MSELoss on validation set')\n",
    "    val_predictions = model(X_val.to(device)).to('cpu').numpy()\n",
    "    test_one_epoch(val_loader)\n",
    "    \n",
    "    print('MSELoss on test set')\n",
    "    test_predictions = model(X_test.to(device)).to('cpu').numpy()\n",
    "    test_one_epoch(test_loader)"
   ]
  },
  {
   "cell_type": "code",
   "execution_count": 28,
   "id": "1f8b6ad3",
   "metadata": {
    "execution": {
     "iopub.execute_input": "2024-04-08T16:31:34.744887Z",
     "iopub.status.busy": "2024-04-08T16:31:34.744586Z",
     "iopub.status.idle": "2024-04-08T16:31:34.750434Z",
     "shell.execute_reply": "2024-04-08T16:31:34.749629Z"
    },
    "papermill": {
     "duration": 0.023975,
     "end_time": "2024-04-08T16:31:34.752217",
     "exception": false,
     "start_time": "2024-04-08T16:31:34.728242",
     "status": "completed"
    },
    "tags": []
   },
   "outputs": [],
   "source": [
    "train_predictions =  train_predictions.flatten()\n",
    "\n",
    "dummies = np.zeros((X_train.shape[0], lookback+1))\n",
    "dummies[:, 0] = train_predictions\n",
    "dummies = scaler.inverse_transform(dummies)\n",
    "\n",
    "train_predictions = dc(dummies[:, 0])"
   ]
  },
  {
   "cell_type": "code",
   "execution_count": 29,
   "id": "d5152475",
   "metadata": {
    "execution": {
     "iopub.execute_input": "2024-04-08T16:31:34.785318Z",
     "iopub.status.busy": "2024-04-08T16:31:34.784802Z",
     "iopub.status.idle": "2024-04-08T16:31:34.791239Z",
     "shell.execute_reply": "2024-04-08T16:31:34.790534Z"
    },
    "papermill": {
     "duration": 0.025504,
     "end_time": "2024-04-08T16:31:34.793118",
     "exception": false,
     "start_time": "2024-04-08T16:31:34.767614",
     "status": "completed"
    },
    "tags": []
   },
   "outputs": [],
   "source": [
    "dummies = np.zeros((X_train.shape[0], lookback+1))\n",
    "dummies[:, 0] = y_train.flatten()\n",
    "dummies = scaler.inverse_transform(dummies)\n",
    "\n",
    "new_y_train = dc(dummies[:, 0])"
   ]
  },
  {
   "cell_type": "code",
   "execution_count": 30,
   "id": "4ad3f1a9",
   "metadata": {
    "execution": {
     "iopub.execute_input": "2024-04-08T16:31:34.825038Z",
     "iopub.status.busy": "2024-04-08T16:31:34.824460Z",
     "iopub.status.idle": "2024-04-08T16:31:34.829474Z",
     "shell.execute_reply": "2024-04-08T16:31:34.828752Z"
    },
    "papermill": {
     "duration": 0.023014,
     "end_time": "2024-04-08T16:31:34.831302",
     "exception": false,
     "start_time": "2024-04-08T16:31:34.808288",
     "status": "completed"
    },
    "tags": []
   },
   "outputs": [],
   "source": [
    "val_predictions = val_predictions.flatten()\n",
    "\n",
    "dummies = np.zeros((X_val.shape[0], lookback+1))\n",
    "dummies[:, 0] = val_predictions\n",
    "dummies = scaler.inverse_transform(dummies)\n",
    "\n",
    "val_predictions = dc(dummies[:, 0])"
   ]
  },
  {
   "cell_type": "code",
   "execution_count": 31,
   "id": "2b8c8031",
   "metadata": {
    "execution": {
     "iopub.execute_input": "2024-04-08T16:31:34.862628Z",
     "iopub.status.busy": "2024-04-08T16:31:34.862174Z",
     "iopub.status.idle": "2024-04-08T16:31:34.867218Z",
     "shell.execute_reply": "2024-04-08T16:31:34.866411Z"
    },
    "papermill": {
     "duration": 0.022693,
     "end_time": "2024-04-08T16:31:34.869017",
     "exception": false,
     "start_time": "2024-04-08T16:31:34.846324",
     "status": "completed"
    },
    "tags": []
   },
   "outputs": [],
   "source": [
    "dummies = np.zeros((X_val.shape[0], lookback+1))\n",
    "dummies[:, 0] = y_val.flatten()\n",
    "dummies = scaler.inverse_transform(dummies)\n",
    "\n",
    "new_y_val = dc(dummies[:, 0])"
   ]
  },
  {
   "cell_type": "code",
   "execution_count": 32,
   "id": "f1f7f205",
   "metadata": {
    "execution": {
     "iopub.execute_input": "2024-04-08T16:31:34.900953Z",
     "iopub.status.busy": "2024-04-08T16:31:34.900447Z",
     "iopub.status.idle": "2024-04-08T16:31:34.905696Z",
     "shell.execute_reply": "2024-04-08T16:31:34.904881Z"
    },
    "papermill": {
     "duration": 0.022938,
     "end_time": "2024-04-08T16:31:34.907609",
     "exception": false,
     "start_time": "2024-04-08T16:31:34.884671",
     "status": "completed"
    },
    "tags": []
   },
   "outputs": [],
   "source": [
    "test_predictions = test_predictions.flatten()\n",
    "\n",
    "dummies = np.zeros((X_test.shape[0], lookback+1))\n",
    "dummies[:, 0] = test_predictions\n",
    "dummies = scaler.inverse_transform(dummies)\n",
    "\n",
    "test_predictions = dc(dummies[:, 0])"
   ]
  },
  {
   "cell_type": "code",
   "execution_count": 33,
   "id": "d3b2dd4f",
   "metadata": {
    "execution": {
     "iopub.execute_input": "2024-04-08T16:31:34.938900Z",
     "iopub.status.busy": "2024-04-08T16:31:34.938426Z",
     "iopub.status.idle": "2024-04-08T16:31:34.943530Z",
     "shell.execute_reply": "2024-04-08T16:31:34.942655Z"
    },
    "papermill": {
     "duration": 0.022815,
     "end_time": "2024-04-08T16:31:34.945425",
     "exception": false,
     "start_time": "2024-04-08T16:31:34.922610",
     "status": "completed"
    },
    "tags": []
   },
   "outputs": [],
   "source": [
    "dummies = np.zeros((X_test.shape[0], lookback+1))\n",
    "dummies[:, 0] = y_test.flatten()\n",
    "dummies = scaler.inverse_transform(dummies)\n",
    "\n",
    "new_y_test = dc(dummies[:, 0])"
   ]
  },
  {
   "cell_type": "code",
   "execution_count": 34,
   "id": "c0dcf6b5",
   "metadata": {
    "execution": {
     "iopub.execute_input": "2024-04-08T16:31:35.016189Z",
     "iopub.status.busy": "2024-04-08T16:31:35.015432Z",
     "iopub.status.idle": "2024-04-08T16:31:35.269858Z",
     "shell.execute_reply": "2024-04-08T16:31:35.268948Z"
    },
    "papermill": {
     "duration": 0.273565,
     "end_time": "2024-04-08T16:31:35.271939",
     "exception": false,
     "start_time": "2024-04-08T16:31:34.998374",
     "status": "completed"
    },
    "tags": []
   },
   "outputs": [
    {
     "data": {
      "image/png": "[encoded data removed]",
      "text/plain": [
       "<Figure size 640x480 with 1 Axes>"
      ]
     },
     "metadata": {},
     "output_type": "display_data"
    }
   ],
   "source": [
    "plt.plot(new_y_train, label='Actual Close')\n",
    "plt.plot(train_predictions, label='Predicted Close')\n",
    "plt.xlabel('Day')\n",
    "plt.ylabel('Close')\n",
    "plt.title('Prediction on train set')\n",
    "plt.legend()\n",
    "plt.show()"
   ]
  },
  {
   "cell_type": "code",
   "execution_count": 35,
   "id": "44212c37",
   "metadata": {
    "execution": {
     "iopub.execute_input": "2024-04-08T16:31:35.307292Z",
     "iopub.status.busy": "2024-04-08T16:31:35.306688Z",
     "iopub.status.idle": "2024-04-08T16:31:35.578727Z",
     "shell.execute_reply": "2024-04-08T16:31:35.577845Z"
    },
    "papermill": {
     "duration": 0.292253,
     "end_time": "2024-04-08T16:31:35.580918",
     "exception": false,
     "start_time": "2024-04-08T16:31:35.288665",
     "status": "completed"
    },
    "tags": []
   },
   "outputs": [
    {
     "data": {
      "image/png": "[encoded data removed]",
      "text/plain": [
       "<Figure size 640x480 with 1 Axes>"
      ]
     },
     "metadata": {},
     "output_type": "display_data"
    }
   ],
   "source": [
    "plt.plot(new_y_val, label='Actual Close')\n",
    "plt.plot(val_predictions, label='Predicted Close')\n",
    "plt.xlabel('Day')\n",
    "plt.ylabel('Close')\n",
    "plt.title('Prediction on validation set')\n",
    "plt.legend()\n",
    "plt.show()"
   ]
  },
  {
   "cell_type": "code",
   "execution_count": 36,
   "id": "e3425379",
   "metadata": {
    "execution": {
     "iopub.execute_input": "2024-04-08T16:31:35.617224Z",
     "iopub.status.busy": "2024-04-08T16:31:35.616733Z",
     "iopub.status.idle": "2024-04-08T16:31:35.901498Z",
     "shell.execute_reply": "2024-04-08T16:31:35.900638Z"
    },
    "papermill": {
     "duration": 0.304915,
     "end_time": "2024-04-08T16:31:35.903371",
     "exception": false,
     "start_time": "2024-04-08T16:31:35.598456",
     "status": "completed"
    },
    "tags": []
   },
   "outputs": [
    {
     "data": {
      "image/png": "[encoded data removed]",
      "text/plain": [
       "<Figure size 640x480 with 1 Axes>"
      ]
     },
     "metadata": {},
     "output_type": "display_data"
    }
   ],
   "source": [
    "plt.plot(new_y_test, label='Actual Close')\n",
    "plt.plot(test_predictions, label='Predicted Close')\n",
    "plt.xlabel('Day')\n",
    "plt.ylabel('Close')\n",
    "plt.title('Prediction on test set')\n",
    "plt.legend()\n",
    "plt.show()"
   ]
  },
  {
   "cell_type": "code",
   "execution_count": 37,
   "id": "2129150a",
   "metadata": {
    "execution": {
     "iopub.execute_input": "2024-04-08T16:31:35.940329Z",
     "iopub.status.busy": "2024-04-08T16:31:35.939796Z",
     "iopub.status.idle": "2024-04-08T16:31:36.236880Z",
     "shell.execute_reply": "2024-04-08T16:31:36.236007Z"
    },
    "papermill": {
     "duration": 0.318,
     "end_time": "2024-04-08T16:31:36.239234",
     "exception": false,
     "start_time": "2024-04-08T16:31:35.921234",
     "status": "completed"
    },
    "tags": []
   },
   "outputs": [
    {
     "data": {
      "text/plain": [
       "Text(0.5, 1.0, 'Train and valid loss lr = 0.000500')"
      ]
     },
     "execution_count": 37,
     "metadata": {},
     "output_type": "execute_result"
    },
    {
     "data": {
      "image/png": "[encoded data removed]",
      "text/plain": [
       "<Figure size 640x480 with 1 Axes>"
      ]
     },
     "metadata": {},
     "output_type": "display_data"
    }
   ],
   "source": [
    "plt.plot(train_losses, label = 'Train loss')\n",
    "plt.plot(val_losses, label = 'Valid loss')\n",
    "plt.xlabel('Iteration')\n",
    "plt.ylabel('Loss')\n",
    "plt.legend()\n",
    "plt.title('Train and valid loss lr = {0:.6f}'.format(lr))"
   ]
  }
 ],
 "metadata": {
  "kaggle": {
   "accelerator": "nvidiaTeslaT4",
   "dataSources": [
    {
     "datasetId": 1912819,
     "sourceId": 3141205,
     "sourceType": "datasetVersion"
    },
    {
     "datasetId": 1428007,
     "sourceId": 3358579,
     "sourceType": "datasetVersion"
    },
    {
     "datasetId": 1639162,
     "sourceId": 3358626,
     "sourceType": "datasetVersion"
    },
    {
     "datasetId": 4631316,
     "sourceId": 7894168,
     "sourceType": "datasetVersion"
    }
   ],
   "dockerImageVersionId": 30674,
   "isGpuEnabled": true,
   "isInternetEnabled": true,
   "language": "python",
   "sourceType": "notebook"
  },
  "kernelspec": {
   "display_name": "Python 3",
   "language": "python",
   "name": "python3"
  },
  "language_info": {
   "codemirror_mode": {
    "name": "ipython",
    "version": 3
   },
   "file_extension": ".py",
   "mimetype": "text/x-python",
   "name": "python",
   "nbconvert_exporter": "python",
   "pygments_lexer": "ipython3",
   "version": "3.10.13"
  },
  "papermill": {
   "default_parameters": {},
   "duration": 27.059457,
   "end_time": "2024-04-08T16:31:37.779741",
   "environment_variables": {},
   "exception": null,
   "input_path": "__notebook__.ipynb",
   "output_path": "__notebook__.ipynb",
   "parameters": {},
   "start_time": "2024-04-08T16:31:10.720284",
   "version": "2.5.0"
  }
 },
 "nbformat": 4,
 "nbformat_minor": 5
}
